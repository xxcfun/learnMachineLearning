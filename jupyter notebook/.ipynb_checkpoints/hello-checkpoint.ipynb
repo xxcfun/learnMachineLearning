{
 "cells": [
  {
   "cell_type": "markdown",
   "id": "ae112118",
   "metadata": {},
   "source": [
    "%run"
   ]
  },
  {
   "cell_type": "code",
   "execution_count": 1,
   "id": "d59094be",
   "metadata": {},
   "outputs": [
    {
     "name": "stdout",
     "output_type": "stream",
     "text": [
      "hello xxcfun !\n"
     ]
    }
   ],
   "source": [
    "%run ./myscript/hello.py"
   ]
  },
  {
   "cell_type": "code",
   "execution_count": 2,
   "id": "4de71180",
   "metadata": {},
   "outputs": [
    {
     "name": "stdout",
     "output_type": "stream",
     "text": [
      "hello ajun !\n"
     ]
    }
   ],
   "source": [
    "hello(\"ajun\")"
   ]
  },
  {
   "cell_type": "markdown",
   "id": "76731407",
   "metadata": {},
   "source": [
    "%timeit"
   ]
  },
  {
   "cell_type": "code",
   "execution_count": 3,
   "id": "a2640c23",
   "metadata": {},
   "outputs": [
    {
     "name": "stdout",
     "output_type": "stream",
     "text": [
      "527 µs ± 76 µs per loop (mean ± std. dev. of 7 runs, 1000 loops each)\n"
     ]
    }
   ],
   "source": [
    "%timeit L = {i**2 for i in range(1000)}"
   ]
  },
  {
   "cell_type": "code",
   "execution_count": 4,
   "id": "5a668dfb",
   "metadata": {},
   "outputs": [
    {
     "name": "stdout",
     "output_type": "stream",
     "text": [
      "5.6 ms ± 869 µs per loop (mean ± std. dev. of 7 runs, 100 loops each)\n"
     ]
    }
   ],
   "source": [
    "%timeit L = {i**2 for i in range(10000)}"
   ]
  },
  {
   "cell_type": "code",
   "execution_count": 5,
   "id": "72be02ef",
   "metadata": {},
   "outputs": [
    {
     "name": "stdout",
     "output_type": "stream",
     "text": [
      "5.53 µs ± 509 ns per loop (mean ± std. dev. of 7 runs, 100000 loops each)\n"
     ]
    }
   ],
   "source": [
    "%timeit L = {i**2 for i in range(10)}"
   ]
  },
  {
   "cell_type": "code",
   "execution_count": 6,
   "id": "13d3ac15",
   "metadata": {},
   "outputs": [
    {
     "name": "stdout",
     "output_type": "stream",
     "text": [
      "586 µs ± 63.7 µs per loop (mean ± std. dev. of 7 runs, 1000 loops each)\n"
     ]
    }
   ],
   "source": [
    "%%timeit\n",
    "L = []\n",
    "for n in range(1000):\n",
    "    L.append(n ** 2)"
   ]
  },
  {
   "cell_type": "markdown",
   "id": "0f053bee",
   "metadata": {},
   "source": [
    "%time"
   ]
  },
  {
   "cell_type": "code",
   "execution_count": 7,
   "id": "968e7df9",
   "metadata": {},
   "outputs": [
    {
     "name": "stdout",
     "output_type": "stream",
     "text": [
      "Wall time: 2 ms\n"
     ]
    }
   ],
   "source": [
    "%time L = {i**2 for i in range(1000)}"
   ]
  },
  {
   "cell_type": "code",
   "execution_count": 8,
   "id": "aee70e29",
   "metadata": {},
   "outputs": [
    {
     "name": "stdout",
     "output_type": "stream",
     "text": [
      "Wall time: 1 ms\n"
     ]
    }
   ],
   "source": [
    "%%time\n",
    "L = []\n",
    "for n in range(1000):\n",
    "    L.append(n ** 2)"
   ]
  },
  {
   "cell_type": "code",
   "execution_count": 9,
   "id": "e724877e",
   "metadata": {},
   "outputs": [
    {
     "name": "stdout",
     "output_type": "stream",
     "text": [
      "810 µs ± 202 µs per loop (mean ± std. dev. of 7 runs, 1000 loops each)\n"
     ]
    }
   ],
   "source": [
    "import random\n",
    "L = [random.random() for i in range(100000)]\n",
    "%timeit L.sort()"
   ]
  },
  {
   "cell_type": "code",
   "execution_count": 10,
   "id": "493ca999",
   "metadata": {},
   "outputs": [
    {
     "name": "stdout",
     "output_type": "stream",
     "text": [
      "Wall time: 39.9 ms\n"
     ]
    }
   ],
   "source": [
    "L = [random.random() for i in range(100000)]\n",
    "%time L.sort()"
   ]
  },
  {
   "cell_type": "code",
   "execution_count": 11,
   "id": "d1ffdb19",
   "metadata": {},
   "outputs": [
    {
     "name": "stdout",
     "output_type": "stream",
     "text": [
      "Wall time: 4.98 ms\n"
     ]
    }
   ],
   "source": [
    "%time L.sort()"
   ]
  },
  {
   "cell_type": "code",
   "execution_count": null,
   "id": "3a33ac26",
   "metadata": {},
   "outputs": [],
   "source": []
  }
 ],
 "metadata": {
  "kernelspec": {
   "display_name": "Python 3 (ipykernel)",
   "language": "python",
   "name": "python3"
  },
  "language_info": {
   "codemirror_mode": {
    "name": "ipython",
    "version": 3
   },
   "file_extension": ".py",
   "mimetype": "text/x-python",
   "name": "python",
   "nbconvert_exporter": "python",
   "pygments_lexer": "ipython3",
   "version": "3.7.1"
  }
 },
 "nbformat": 4,
 "nbformat_minor": 5
}
